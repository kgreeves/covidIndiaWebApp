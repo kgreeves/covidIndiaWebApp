{
 "cells": [
  {
   "cell_type": "code",
   "execution_count": null,
   "id": "0449ea9d",
   "metadata": {},
   "outputs": [],
   "source": [
    "import os\n",
    "import json\n",
    "import pandas as pd\n",
    "from pathlib import Path"
   ]
  },
  {
   "cell_type": "code",
   "execution_count": null,
   "id": "e7a3bfcd",
   "metadata": {},
   "outputs": [],
   "source": [
    "BASE_PATH = Path(os.path.abspath('')).parent.absolute()"
   ]
  },
  {
   "cell_type": "code",
   "execution_count": null,
   "id": "b0bf4bfd",
   "metadata": {},
   "outputs": [],
   "source": [
    "f = open(str(BASE_PATH)+'\\\\data\\\\states.json')\n",
    "indian_states = json.load(f)\n",
    "\n",
    "f = open(str(BASE_PATH)+'\\\\data\\\\state_district_wise.json')\n",
    "indian_covid_json  = json.load(f)"
   ]
  },
  {
   "cell_type": "code",
   "execution_count": null,
   "id": "1810161c",
   "metadata": {},
   "outputs": [],
   "source": [
    "# JSON of Covid Data to pd (index=district)\n",
    "state_pd = []\n",
    "\n",
    "for state in indian_states['features']:\n",
    "    \n",
    "    curr_state = state['id']\n",
    "    \n",
    "    current_state_pd = pd.DataFrame(indian_covid_json[curr_state]['districtData']).T\n",
    "    \n",
    "    for status in current_state_pd.iloc[0,:]['delta'].keys():\n",
    "        current_state_pd[f'delta{status.title()}'] = current_state_pd['delta'].apply(lambda x: x[status])\n",
    "        \n",
    "    current_state_pd.drop(columns=['delta'], inplace=True)\n",
    "    \n",
    "    current_state_pd['state'] = curr_state\n",
    "    \n",
    "    state_pd.append(current_state_pd)\n",
    "    \n",
    "full_data = pd.concat(state_pd)"
   ]
  },
  {
   "cell_type": "code",
   "execution_count": null,
   "id": "97c090b2",
   "metadata": {},
   "outputs": [],
   "source": [
    "full_data = full_data.astype(dtype={\n",
    "    \"notes\":\"object\",\n",
    "    \"active\":\"int64\",\n",
    "    \"confirmed\":\"int64\",\n",
    "    \"migratedother\":\"int64\",\n",
    "    \"deceased\":\"int64\",\n",
    "    \"recovered\":\"int64\",\n",
    "    \"deltaConfirmed\":\"int64\",\n",
    "    \"deltaDeceased\":\"int64\",\n",
    "    \"deltaRecovered\":\"int64\",\n",
    "    \"state\":\"object\"\n",
    "})"
   ]
  },
  {
   "cell_type": "code",
   "execution_count": null,
   "id": "654d1bc8",
   "metadata": {},
   "outputs": [],
   "source": [
    "full_data.dtypes"
   ]
  },
  {
   "cell_type": "code",
   "execution_count": null,
   "id": "bb940bef",
   "metadata": {},
   "outputs": [],
   "source": [
    "covid_state_data = (\n",
    "    full_data\n",
    "    .groupby(by='state')\n",
    "    .sum(numeric_only=True)\n",
    ")\n"
   ]
  },
  {
   "cell_type": "code",
   "execution_count": null,
   "id": "cfdbd767",
   "metadata": {},
   "outputs": [],
   "source": [
    "geo_data_pd = []\n",
    "\n",
    "for state in indian_states['features']:\n",
    "    geo_data_pd.append(pd.DataFrame(pd.json_normalize(state)))\n",
    "    \n",
    "full_geo_data = (pd.concat(geo_data_pd)\n",
    "                 .drop(columns=['type','total'])\n",
    "                 .rename(columns={'id' : 'state'})\n",
    "                 .set_index('state'))    "
   ]
  },
  {
   "cell_type": "code",
   "execution_count": null,
   "id": "b8760e3e",
   "metadata": {},
   "outputs": [],
   "source": [
    "covid_geo_pd = (covid_state_data\n",
    "                    .merge(full_geo_data, on='state')\n",
    "                    .reset_index()\n",
    "                    .rename(columns={'state' : 'id'})\n",
    "                    .to_json(orient='table', index=False)\n",
    "               )"
   ]
  },
  {
   "cell_type": "code",
   "execution_count": null,
   "id": "1a4dae53",
   "metadata": {},
   "outputs": [],
   "source": [
    "with open('covid_geo_india.json','w') as file:\n",
    "    file.write(covid_geo_pd)"
   ]
  },
  {
   "cell_type": "code",
   "execution_count": null,
   "id": "c23767f3",
   "metadata": {},
   "outputs": [],
   "source": [
    "(covid_geo_pd\n",
    ")"
   ]
  },
  {
   "cell_type": "code",
   "execution_count": null,
   "id": "de90de88",
   "metadata": {},
   "outputs": [],
   "source": [
    "import geojson"
   ]
  },
  {
   "cell_type": "code",
   "execution_count": null,
   "id": "d50cf589",
   "metadata": {},
   "outputs": [],
   "source": [
    "with open(str(BASE_PATH)+'\\\\data\\\\states.json') as f:\n",
    "    feat_collection = geojson.load(f)"
   ]
  },
  {
   "cell_type": "code",
   "execution_count": null,
   "id": "cb4b4854",
   "metadata": {},
   "outputs": [],
   "source": [
    "state_properties = covid_state_data.T.to_dict()"
   ]
  },
  {
   "cell_type": "code",
   "execution_count": null,
   "id": "847f0a2c",
   "metadata": {},
   "outputs": [],
   "source": [
    "for i,state in enumerate(feat_collection[\"features\"]):\n",
    "    if state['id'] in state_properties.keys():\n",
    "        feat_collection[\"features\"][i]['properties'] = state_properties[state['id']]"
   ]
  },
  {
   "cell_type": "code",
   "execution_count": null,
   "id": "62f343b3",
   "metadata": {},
   "outputs": [],
   "source": [
    "feat_collection[\"features\"][0]['properties']"
   ]
  },
  {
   "cell_type": "code",
   "execution_count": 57,
   "id": "3b27c847",
   "metadata": {},
   "outputs": [],
   "source": [
    "with open('covid_geo_india.json','w') as file:\n",
    "    geojson.dump(feat_collection, file)"
   ]
  },
  {
   "cell_type": "code",
   "execution_count": null,
   "id": "d7237ebd",
   "metadata": {},
   "outputs": [],
   "source": []
  }
 ],
 "metadata": {
  "kernelspec": {
   "display_name": "Python 3 (ipykernel)",
   "language": "python",
   "name": "python3"
  },
  "language_info": {
   "codemirror_mode": {
    "name": "ipython",
    "version": 3
   },
   "file_extension": ".py",
   "mimetype": "text/x-python",
   "name": "python",
   "nbconvert_exporter": "python",
   "pygments_lexer": "ipython3",
   "version": "3.10.9"
  }
 },
 "nbformat": 4,
 "nbformat_minor": 5
}
